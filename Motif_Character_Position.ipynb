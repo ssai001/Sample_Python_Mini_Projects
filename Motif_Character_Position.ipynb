{
 "cells": [
  {
   "cell_type": "code",
   "execution_count": 1,
   "metadata": {},
   "outputs": [],
   "source": [
    "def motif_position(character,motif): #Defining a function that will process a motif sequence and a selected character within the motif\n",
    "    if character in motif: #Creating an 'if-statement' that states whether a particular character exists in a motif sequence\n",
    "        return \"The position of the character before the {0} in {1} is {2}\".format(character, motif, (motif.index(character))) #Determines the index of '*' in motif sequence. \n",
    "    "
   ]
  },
  {
   "cell_type": "code",
   "execution_count": 2,
   "metadata": {},
   "outputs": [
    {
     "data": {
      "text/plain": [
       "'The position of the character before the * in IRKET*TLHK is 5'"
      ]
     },
     "execution_count": 2,
     "metadata": {},
     "output_type": "execute_result"
    }
   ],
   "source": [
    "motif_position('*', 'IRKET*TLHK') #Testing the function with the first motif sequence and the '*' character within the motif sequence."
   ]
  },
  {
   "cell_type": "code",
   "execution_count": 3,
   "metadata": {},
   "outputs": [
    {
     "data": {
      "text/plain": [
       "'The position of the character before the * in S*RLRGGAKK  is 1'"
      ]
     },
     "execution_count": 3,
     "metadata": {},
     "output_type": "execute_result"
    }
   ],
   "source": [
    "motif_position('*', 'S*RLRGGAKK ') #Testing the function with the first motif sequence and the '*' character within the motif sequence."
   ]
  },
  {
   "cell_type": "code",
   "execution_count": null,
   "metadata": {},
   "outputs": [],
   "source": []
  },
  {
   "cell_type": "code",
   "execution_count": null,
   "metadata": {},
   "outputs": [],
   "source": []
  }
 ],
 "metadata": {
  "kernelspec": {
   "display_name": "Python 3",
   "language": "python",
   "name": "python3"
  },
  "language_info": {
   "codemirror_mode": {
    "name": "ipython",
    "version": 3
   },
   "file_extension": ".py",
   "mimetype": "text/x-python",
   "name": "python",
   "nbconvert_exporter": "python",
   "pygments_lexer": "ipython3",
   "version": "3.7.3"
  }
 },
 "nbformat": 4,
 "nbformat_minor": 2
}
